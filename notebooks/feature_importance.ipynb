{
 "cells": [
  {
   "cell_type": "code",
   "execution_count": 1,
   "metadata": {},
   "outputs": [],
   "source": [
    "import sys\n",
    "sys.path.append('../')\n",
    "from langclass.features.build_features import Vectorizer\n",
    "from langclass.data.dataframes import Data\n",
    "from langclass.util import codedict_mean\n",
    "import lightgbm as lgb"
   ]
  },
  {
   "cell_type": "code",
   "execution_count": 2,
   "metadata": {},
   "outputs": [],
   "source": [
    "data = Data()\n",
    "train_df = data.train_df\n",
    "test_df = data.test_df"
   ]
  },
  {
   "cell_type": "code",
   "execution_count": 3,
   "metadata": {},
   "outputs": [],
   "source": [
    "X_train = train_df['code']\n",
    "X_test = test_df['code']\n",
    "y_train = train_df['language']\n",
    "y_test = test_df['language']"
   ]
  },
  {
   "cell_type": "code",
   "execution_count": 4,
   "metadata": {},
   "outputs": [
    {
     "data": {
      "text/plain": [
       "LGBMClassifier(boosting_type='gbdt', class_weight=None, colsample_bytree=1.0,\n",
       "        importance_type='split', learning_rate=0.1, max_depth=-1,\n",
       "        min_child_samples=20, min_child_weight=0.001, min_split_gain=0.0,\n",
       "        n_estimators=100, n_jobs=-1, num_leaves=31, objective=None,\n",
       "        random_state=None, reg_alpha=0.0, reg_lambda=0.0, silent=True,\n",
       "        subsample=1.0, subsample_for_bin=200000, subsample_freq=0)"
      ]
     },
     "execution_count": 4,
     "metadata": {},
     "output_type": "execute_result"
    }
   ],
   "source": [
    "vec0 = Vectorizer(n_gram=(2,2), tokenizer='char', hash_seed=0)\n",
    "X_train_vec0 = vec0.vectorize_df(X_train, update_hash_dict=True)\n",
    "model0 = lgb.LGBMClassifier()\n",
    "model0.fit(X_train_vec0, y_train)\n",
    "H0 = (vec0.hash_dict, model0.feature_importances_)"
   ]
  },
  {
   "cell_type": "code",
   "execution_count": 7,
   "metadata": {},
   "outputs": [],
   "source": [
    "Hs = []\n",
    "for i in range(3):\n",
    "    vec0 = Vectorizer(n_gram=(2,2), tokenizer='char', hash_seed=i)\n",
    "    X_train_vec0 = vec0.vectorize_df(X_train, update_hash_dict=True)\n",
    "    model0 = lgb.LGBMClassifier()\n",
    "    model0.fit(X_train_vec0, y_train)\n",
    "    Hs.append((vec0.hash_dict, model0.feature_importances_))"
   ]
  },
  {
   "cell_type": "code",
   "execution_count": 13,
   "metadata": {},
   "outputs": [],
   "source": [
    "fi0 = codedict_mean(*Hs)"
   ]
  },
  {
   "cell_type": "code",
   "execution_count": 20,
   "metadata": {},
   "outputs": [
    {
     "data": {
      "text/plain": [
       "[';\\n', ')\\n', ' (', ', ', ' =', '= ', 't(', 't ', 'in', '# ']"
      ]
     },
     "execution_count": 20,
     "metadata": {},
     "output_type": "execute_result"
    }
   ],
   "source": [
    "[x[0] for x in sorted(fi0, key=lambda x:x[1], reverse=True)[:10]]"
   ]
  },
  {
   "cell_type": "code",
   "execution_count": 21,
   "metadata": {},
   "outputs": [],
   "source": [
    "Hs = []\n",
    "for i in range(3):\n",
    "    vec0 = Vectorizer(n_gram=(1,1), tokenizer='alphanum', hash_seed=i)\n",
    "    X_train_vec0 = vec0.vectorize_df(X_train, update_hash_dict=True)\n",
    "    model0 = lgb.LGBMClassifier()\n",
    "    model0.fit(X_train_vec0, y_train)\n",
    "    Hs.append((vec0.hash_dict, model0.feature_importances_))"
   ]
  },
  {
   "cell_type": "code",
   "execution_count": 22,
   "metadata": {},
   "outputs": [],
   "source": [
    "fi1 = codedict_mean(*Hs)"
   ]
  },
  {
   "cell_type": "code",
   "execution_count": 23,
   "metadata": {},
   "outputs": [
    {
     "data": {
      "text/plain": [
       "[';', '=', '.', ':', 'print', ',', '\"', '#', ')', '-']"
      ]
     },
     "execution_count": 23,
     "metadata": {},
     "output_type": "execute_result"
    }
   ],
   "source": [
    "[x[0] for x in sorted(fi1, key=lambda x:x[1], reverse=True)[:10]]"
   ]
  },
  {
   "cell_type": "code",
   "execution_count": 24,
   "metadata": {},
   "outputs": [],
   "source": [
    "Hs = []\n",
    "for i in range(3):\n",
    "    vec0 = Vectorizer(n_gram=(2,2), tokenizer='alphanum', hash_seed=i)\n",
    "    X_train_vec0 = vec0.vectorize_df(X_train, update_hash_dict=True)\n",
    "    model0 = lgb.LGBMClassifier()\n",
    "    model0.fit(X_train_vec0, y_train)\n",
    "    Hs.append((vec0.hash_dict, model0.feature_importances_))"
   ]
  },
  {
   "cell_type": "code",
   "execution_count": 25,
   "metadata": {},
   "outputs": [
    {
     "data": {
      "text/plain": [
       "[');', '::', '){', '//', ';}', '()', '))', '->', 'streetcity', '(\"']"
      ]
     },
     "execution_count": 25,
     "metadata": {},
     "output_type": "execute_result"
    }
   ],
   "source": [
    "fi2 = codedict_mean(*Hs)\n",
    "[x[0] for x in sorted(fi2, key=lambda x:x[1], reverse=True)[:10]]"
   ]
  },
  {
   "cell_type": "code",
   "execution_count": null,
   "metadata": {},
   "outputs": [],
   "source": []
  }
 ],
 "metadata": {
  "kernelspec": {
   "display_name": "Python 3",
   "language": "python",
   "name": "python3"
  },
  "language_info": {
   "codemirror_mode": {
    "name": "ipython",
    "version": 3
   },
   "file_extension": ".py",
   "mimetype": "text/x-python",
   "name": "python",
   "nbconvert_exporter": "python",
   "pygments_lexer": "ipython3",
   "version": "3.7.4"
  }
 },
 "nbformat": 4,
 "nbformat_minor": 4
}

{
 "cells": [
  {
   "cell_type": "code",
   "execution_count": 1,
   "metadata": {},
   "outputs": [],
   "source": [
    "import warnings\n",
    "warnings.filterwarnings(\"ignore\", category=DeprecationWarning) "
   ]
  },
  {
   "cell_type": "code",
   "execution_count": 38,
   "metadata": {},
   "outputs": [],
   "source": [
    "import lightgbm as lgb\n",
    "import pandas as pd\n",
    "import numpy as np\n",
    "\n",
    "import matplotlib.pyplot as plt\n",
    "\n",
    "from sklearn.model_selection import train_test_split\n",
    "from sklearn.externals import joblib\n",
    "from sklearn.metrics import accuracy_score, confusion_matrix\n",
    "from sklearn.utils.multiclass import unique_labels\n",
    "\n",
    "import seaborn as sns\n",
    "\n",
    "import itertools\n",
    "from scipy import stats"
   ]
  },
  {
   "cell_type": "code",
   "execution_count": 3,
   "metadata": {},
   "outputs": [],
   "source": [
    "import sys\n",
    "sys.path.append('../')"
   ]
  },
  {
   "cell_type": "code",
   "execution_count": 4,
   "metadata": {},
   "outputs": [],
   "source": [
    "from langclass.features.build_features import Vectorizer\n",
    "from langclass.data.dataframes import Data"
   ]
  },
  {
   "cell_type": "code",
   "execution_count": 5,
   "metadata": {},
   "outputs": [],
   "source": [
    "data = Data()"
   ]
  },
  {
   "cell_type": "code",
   "execution_count": 6,
   "metadata": {},
   "outputs": [],
   "source": [
    "train_df = data.train_df\n",
    "test_df = data.test_df"
   ]
  },
  {
   "cell_type": "code",
   "execution_count": 8,
   "metadata": {},
   "outputs": [],
   "source": [
    "X_train = train_df['code']\n",
    "X_test = test_df['code']"
   ]
  },
  {
   "cell_type": "code",
   "execution_count": 9,
   "metadata": {},
   "outputs": [],
   "source": [
    "y_train = train_df['language']\n",
    "y_test = test_df['language']"
   ]
  },
  {
   "cell_type": "code",
   "execution_count": 28,
   "metadata": {},
   "outputs": [],
   "source": [
    "labels = sorted(y_train.unique())"
   ]
  },
  {
   "cell_type": "code",
   "execution_count": 12,
   "metadata": {},
   "outputs": [],
   "source": [
    "tokenizer_ls = ['char', 'alphanum']\n",
    "ngrams_ls = [(1,1), (2,2)]"
   ]
  },
  {
   "cell_type": "code",
   "execution_count": 13,
   "metadata": {},
   "outputs": [
    {
     "name": "stderr",
     "output_type": "stream",
     "text": [
      "/home/klui/.local/lib/python3.7/site-packages/sklearn/preprocessing/label.py:151: DeprecationWarning: The truth value of an empty array is ambiguous. Returning False, but in future this will result in an error. Use `array.size > 0` to check that an array is not empty.\n",
      "  if diff:\n"
     ]
    },
    {
     "name": "stdout",
     "output_type": "stream",
     "text": [
      "char, (1, 1), acc: 0.8752562225475842\n"
     ]
    },
    {
     "name": "stderr",
     "output_type": "stream",
     "text": [
      "/home/klui/.local/lib/python3.7/site-packages/sklearn/preprocessing/label.py:151: DeprecationWarning: The truth value of an empty array is ambiguous. Returning False, but in future this will result in an error. Use `array.size > 0` to check that an array is not empty.\n",
      "  if diff:\n"
     ]
    },
    {
     "name": "stdout",
     "output_type": "stream",
     "text": [
      "char, (2, 2), acc: 0.9376281112737921\n"
     ]
    },
    {
     "name": "stderr",
     "output_type": "stream",
     "text": [
      "/home/klui/.local/lib/python3.7/site-packages/sklearn/preprocessing/label.py:151: DeprecationWarning: The truth value of an empty array is ambiguous. Returning False, but in future this will result in an error. Use `array.size > 0` to check that an array is not empty.\n",
      "  if diff:\n"
     ]
    },
    {
     "name": "stdout",
     "output_type": "stream",
     "text": [
      "alphanum, (1, 1), acc: 0.9332357247437775\n",
      "alphanum, (2, 2), acc: 0.9153733528550513\n"
     ]
    },
    {
     "name": "stderr",
     "output_type": "stream",
     "text": [
      "/home/klui/.local/lib/python3.7/site-packages/sklearn/preprocessing/label.py:151: DeprecationWarning: The truth value of an empty array is ambiguous. Returning False, but in future this will result in an error. Use `array.size > 0` to check that an array is not empty.\n",
      "  if diff:\n"
     ]
    }
   ],
   "source": [
    "preds = []\n",
    "for tokenizer, n_gram in itertools.product(tokenizer_ls, ngrams_ls):\n",
    "    vec = Vectorizer(n_features=2**12, tokenizer=tokenizer, n_gram=n_gram)\n",
    "    X_train_vec = vec.vectorize_df(X_train)\n",
    "    X_test_vec = vec.vectorize_df(X_test)\n",
    "    model = lgb.LGBMClassifier()\n",
    "    model.fit(X_train_vec, y_train)\n",
    "    y_pred = model.predict(X_test_vec)\n",
    "    acc_score = accuracy_score(y_test, y_pred)\n",
    "    print(f'{tokenizer}, {n_gram}, acc: {acc_score}')\n",
    "    preds.append(y_pred)"
   ]
  },
  {
   "cell_type": "code",
   "execution_count": 33,
   "metadata": {},
   "outputs": [],
   "source": [
    "cm = confusion_matrix(y_test, preds[1], labels=labels)"
   ]
  },
  {
   "cell_type": "code",
   "execution_count": 34,
   "metadata": {},
   "outputs": [
    {
     "data": {
      "text/plain": [
       "array([[246,   5,   0,   1,   0,   4,   1,   0,   1,   1,   4,   3],\n",
       "       [  7, 192,   0,   1,   1,   5,   1,   0,   0,   0,   0,   1],\n",
       "       [  2,   0, 255,   7,   0,   7,   2,   0,   1,   0,   3,   0],\n",
       "       [  0,   0,   0, 313,   0,   3,   3,   3,   1,   1,   0,   0],\n",
       "       [  8,   5,   1,   2, 248,   8,   2,   0,   0,   2,   1,   0],\n",
       "       [  2,   1,   0,   0,   1, 281,   3,   0,   0,   2,   3,   0],\n",
       "       [  3,   0,   0,   4,   0,   3, 204,   5,   0,   2,  13,   0],\n",
       "       [  0,   0,   2,   0,   0,   2,   0, 307,   0,   2,   4,   0],\n",
       "       [  1,   0,   0,   8,   0,   2,   1,   1, 200,   4,   0,   0],\n",
       "       [  3,   0,   0,   3,   2,   4,   0,   0,   1, 296,   2,   0],\n",
       "       [  1,   0,   0,   5,   0,   4,   3,   2,   0,   1, 423,   0],\n",
       "       [  2,   0,   0,   4,   0,   3,   1,   5,   0,   0,   0, 237]])"
      ]
     },
     "execution_count": 34,
     "metadata": {},
     "output_type": "execute_result"
    }
   ],
   "source": [
    "cm"
   ]
  },
  {
   "cell_type": "code",
   "execution_count": 55,
   "metadata": {},
   "outputs": [],
   "source": [
    "cm_norm = np.array([x / np.linalg.norm(x)for x in cm])"
   ]
  },
  {
   "cell_type": "code",
   "execution_count": 58,
   "metadata": {},
   "outputs": [],
   "source": [
    "cm_normcbrt = np.cbrt(cm_norm)"
   ]
  },
  {
   "cell_type": "code",
   "execution_count": 59,
   "metadata": {},
   "outputs": [],
   "source": [
    "df = pd.DataFrame(cm_normcbrt, index=labels, columns=labels)"
   ]
  },
  {
   "cell_type": "code",
   "execution_count": 61,
   "metadata": {},
   "outputs": [
    {
     "data": {
      "text/html": [
       "<div>\n",
       "<style scoped>\n",
       "    .dataframe tbody tr th:only-of-type {\n",
       "        vertical-align: middle;\n",
       "    }\n",
       "\n",
       "    .dataframe tbody tr th {\n",
       "        vertical-align: top;\n",
       "    }\n",
       "\n",
       "    .dataframe thead th {\n",
       "        text-align: right;\n",
       "    }\n",
       "</style>\n",
       "<table border=\"1\" class=\"dataframe\">\n",
       "  <thead>\n",
       "    <tr style=\"text-align: right;\">\n",
       "      <th></th>\n",
       "      <th>C</th>\n",
       "      <th>C++</th>\n",
       "      <th>Go</th>\n",
       "      <th>Haskell</th>\n",
       "      <th>Java</th>\n",
       "      <th>JavaScript</th>\n",
       "      <th>Julia</th>\n",
       "      <th>Lua</th>\n",
       "      <th>OCaml</th>\n",
       "      <th>Perl</th>\n",
       "      <th>Python</th>\n",
       "      <th>Racket</th>\n",
       "    </tr>\n",
       "  </thead>\n",
       "  <tbody>\n",
       "    <tr>\n",
       "      <td>C</td>\n",
       "      <td>0.999807</td>\n",
       "      <td>0.272853</td>\n",
       "      <td>0.000000</td>\n",
       "      <td>0.159565</td>\n",
       "      <td>0.000000</td>\n",
       "      <td>0.253294</td>\n",
       "      <td>0.159565</td>\n",
       "      <td>0.000000</td>\n",
       "      <td>0.159565</td>\n",
       "      <td>0.159565</td>\n",
       "      <td>0.253294</td>\n",
       "      <td>0.230133</td>\n",
       "    </tr>\n",
       "    <tr>\n",
       "      <td>C++</td>\n",
       "      <td>0.331471</td>\n",
       "      <td>0.999648</td>\n",
       "      <td>0.000000</td>\n",
       "      <td>0.173279</td>\n",
       "      <td>0.173279</td>\n",
       "      <td>0.296303</td>\n",
       "      <td>0.173279</td>\n",
       "      <td>0.000000</td>\n",
       "      <td>0.000000</td>\n",
       "      <td>0.000000</td>\n",
       "      <td>0.000000</td>\n",
       "      <td>0.173279</td>\n",
       "    </tr>\n",
       "    <tr>\n",
       "      <td>Go</td>\n",
       "      <td>0.198625</td>\n",
       "      <td>0.000000</td>\n",
       "      <td>0.999703</td>\n",
       "      <td>0.301571</td>\n",
       "      <td>0.000000</td>\n",
       "      <td>0.301571</td>\n",
       "      <td>0.198625</td>\n",
       "      <td>0.000000</td>\n",
       "      <td>0.157649</td>\n",
       "      <td>0.000000</td>\n",
       "      <td>0.227369</td>\n",
       "      <td>0.000000</td>\n",
       "    </tr>\n",
       "    <tr>\n",
       "      <td>Haskell</td>\n",
       "      <td>0.000000</td>\n",
       "      <td>0.000000</td>\n",
       "      <td>0.000000</td>\n",
       "      <td>0.999951</td>\n",
       "      <td>0.000000</td>\n",
       "      <td>0.212408</td>\n",
       "      <td>0.212408</td>\n",
       "      <td>0.212408</td>\n",
       "      <td>0.147275</td>\n",
       "      <td>0.147275</td>\n",
       "      <td>0.000000</td>\n",
       "      <td>0.000000</td>\n",
       "    </tr>\n",
       "    <tr>\n",
       "      <td>Java</td>\n",
       "      <td>0.318188</td>\n",
       "      <td>0.272047</td>\n",
       "      <td>0.159094</td>\n",
       "      <td>0.200446</td>\n",
       "      <td>0.999548</td>\n",
       "      <td>0.318188</td>\n",
       "      <td>0.200446</td>\n",
       "      <td>0.000000</td>\n",
       "      <td>0.000000</td>\n",
       "      <td>0.200446</td>\n",
       "      <td>0.159094</td>\n",
       "      <td>0.000000</td>\n",
       "    </tr>\n",
       "    <tr>\n",
       "      <td>JavaScript</td>\n",
       "      <td>0.192346</td>\n",
       "      <td>0.152665</td>\n",
       "      <td>0.000000</td>\n",
       "      <td>0.000000</td>\n",
       "      <td>0.152665</td>\n",
       "      <td>0.999941</td>\n",
       "      <td>0.220181</td>\n",
       "      <td>0.000000</td>\n",
       "      <td>0.000000</td>\n",
       "      <td>0.192346</td>\n",
       "      <td>0.220181</td>\n",
       "      <td>0.000000</td>\n",
       "    </tr>\n",
       "    <tr>\n",
       "      <td>Julia</td>\n",
       "      <td>0.244772</td>\n",
       "      <td>0.000000</td>\n",
       "      <td>0.000000</td>\n",
       "      <td>0.269406</td>\n",
       "      <td>0.000000</td>\n",
       "      <td>0.244772</td>\n",
       "      <td>0.999074</td>\n",
       "      <td>0.290209</td>\n",
       "      <td>0.000000</td>\n",
       "      <td>0.213828</td>\n",
       "      <td>0.399057</td>\n",
       "      <td>0.000000</td>\n",
       "    </tr>\n",
       "    <tr>\n",
       "      <td>Lua</td>\n",
       "      <td>0.000000</td>\n",
       "      <td>0.000000</td>\n",
       "      <td>0.186756</td>\n",
       "      <td>0.000000</td>\n",
       "      <td>0.000000</td>\n",
       "      <td>0.186756</td>\n",
       "      <td>0.000000</td>\n",
       "      <td>0.999950</td>\n",
       "      <td>0.000000</td>\n",
       "      <td>0.186756</td>\n",
       "      <td>0.235298</td>\n",
       "      <td>0.000000</td>\n",
       "    </tr>\n",
       "    <tr>\n",
       "      <td>OCaml</td>\n",
       "      <td>0.170936</td>\n",
       "      <td>0.000000</td>\n",
       "      <td>0.000000</td>\n",
       "      <td>0.341871</td>\n",
       "      <td>0.000000</td>\n",
       "      <td>0.215365</td>\n",
       "      <td>0.170936</td>\n",
       "      <td>0.170936</td>\n",
       "      <td>0.999638</td>\n",
       "      <td>0.271343</td>\n",
       "      <td>0.000000</td>\n",
       "      <td>0.000000</td>\n",
       "    </tr>\n",
       "    <tr>\n",
       "      <td>Perl</td>\n",
       "      <td>0.216392</td>\n",
       "      <td>0.000000</td>\n",
       "      <td>0.000000</td>\n",
       "      <td>0.216392</td>\n",
       "      <td>0.189036</td>\n",
       "      <td>0.238170</td>\n",
       "      <td>0.000000</td>\n",
       "      <td>0.000000</td>\n",
       "      <td>0.150038</td>\n",
       "      <td>0.999918</td>\n",
       "      <td>0.189036</td>\n",
       "      <td>0.000000</td>\n",
       "    </tr>\n",
       "    <tr>\n",
       "      <td>Python</td>\n",
       "      <td>0.133208</td>\n",
       "      <td>0.000000</td>\n",
       "      <td>0.000000</td>\n",
       "      <td>0.227783</td>\n",
       "      <td>0.000000</td>\n",
       "      <td>0.211455</td>\n",
       "      <td>0.192119</td>\n",
       "      <td>0.167832</td>\n",
       "      <td>0.000000</td>\n",
       "      <td>0.133208</td>\n",
       "      <td>0.999948</td>\n",
       "      <td>0.000000</td>\n",
       "    </tr>\n",
       "    <tr>\n",
       "      <td>Racket</td>\n",
       "      <td>0.203559</td>\n",
       "      <td>0.000000</td>\n",
       "      <td>0.000000</td>\n",
       "      <td>0.256468</td>\n",
       "      <td>0.000000</td>\n",
       "      <td>0.233017</td>\n",
       "      <td>0.161565</td>\n",
       "      <td>0.276272</td>\n",
       "      <td>0.000000</td>\n",
       "      <td>0.000000</td>\n",
       "      <td>0.000000</td>\n",
       "      <td>0.999837</td>\n",
       "    </tr>\n",
       "  </tbody>\n",
       "</table>\n",
       "</div>"
      ],
      "text/plain": [
       "                   C       C++        Go   Haskell      Java  JavaScript  \\\n",
       "C           0.999807  0.272853  0.000000  0.159565  0.000000    0.253294   \n",
       "C++         0.331471  0.999648  0.000000  0.173279  0.173279    0.296303   \n",
       "Go          0.198625  0.000000  0.999703  0.301571  0.000000    0.301571   \n",
       "Haskell     0.000000  0.000000  0.000000  0.999951  0.000000    0.212408   \n",
       "Java        0.318188  0.272047  0.159094  0.200446  0.999548    0.318188   \n",
       "JavaScript  0.192346  0.152665  0.000000  0.000000  0.152665    0.999941   \n",
       "Julia       0.244772  0.000000  0.000000  0.269406  0.000000    0.244772   \n",
       "Lua         0.000000  0.000000  0.186756  0.000000  0.000000    0.186756   \n",
       "OCaml       0.170936  0.000000  0.000000  0.341871  0.000000    0.215365   \n",
       "Perl        0.216392  0.000000  0.000000  0.216392  0.189036    0.238170   \n",
       "Python      0.133208  0.000000  0.000000  0.227783  0.000000    0.211455   \n",
       "Racket      0.203559  0.000000  0.000000  0.256468  0.000000    0.233017   \n",
       "\n",
       "               Julia       Lua     OCaml      Perl    Python    Racket  \n",
       "C           0.159565  0.000000  0.159565  0.159565  0.253294  0.230133  \n",
       "C++         0.173279  0.000000  0.000000  0.000000  0.000000  0.173279  \n",
       "Go          0.198625  0.000000  0.157649  0.000000  0.227369  0.000000  \n",
       "Haskell     0.212408  0.212408  0.147275  0.147275  0.000000  0.000000  \n",
       "Java        0.200446  0.000000  0.000000  0.200446  0.159094  0.000000  \n",
       "JavaScript  0.220181  0.000000  0.000000  0.192346  0.220181  0.000000  \n",
       "Julia       0.999074  0.290209  0.000000  0.213828  0.399057  0.000000  \n",
       "Lua         0.000000  0.999950  0.000000  0.186756  0.235298  0.000000  \n",
       "OCaml       0.170936  0.170936  0.999638  0.271343  0.000000  0.000000  \n",
       "Perl        0.000000  0.000000  0.150038  0.999918  0.189036  0.000000  \n",
       "Python      0.192119  0.167832  0.000000  0.133208  0.999948  0.000000  \n",
       "Racket      0.161565  0.276272  0.000000  0.000000  0.000000  0.999837  "
      ]
     },
     "execution_count": 61,
     "metadata": {},
     "output_type": "execute_result"
    }
   ],
   "source": [
    "df"
   ]
  },
  {
   "cell_type": "code",
   "execution_count": 68,
   "metadata": {},
   "outputs": [
    {
     "data": {
      "text/plain": [
       "0.9317715959004392"
      ]
     },
     "execution_count": 68,
     "metadata": {},
     "output_type": "execute_result"
    }
   ],
   "source": [
    "accuracy_score(preds[1], preds[2])"
   ]
  },
  {
   "cell_type": "code",
   "execution_count": null,
   "metadata": {},
   "outputs": [],
   "source": []
  }
 ],
 "metadata": {
  "kernelspec": {
   "display_name": "Python 3",
   "language": "python",
   "name": "python3"
  },
  "language_info": {
   "codemirror_mode": {
    "name": "ipython",
    "version": 3
   },
   "file_extension": ".py",
   "mimetype": "text/x-python",
   "name": "python",
   "nbconvert_exporter": "python",
   "pygments_lexer": "ipython3",
   "version": "3.7.4"
  }
 },
 "nbformat": 4,
 "nbformat_minor": 4
}
